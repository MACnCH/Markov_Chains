{
 "cells": [
  {
   "cell_type": "markdown",
   "metadata": {},
   "source": [
    "# Probability 2 (Master Data science, University of Lille) / CMF (Centrale Lille, G3 SDIA)\n",
    "\n",
    "---\n",
    "\n",
    "## Lab 2 - Queues, Metropolis-Hastings and simulated annealing\n",
    "\n",
    "---\n",
    "\n",
    "## Guidelines (read carefully before starting)\n",
    "\n",
    "**Objectives**: numerically simulate queues, implement an example of a Metropolis-Hasting algorithm and simulated annealing.\n",
    "\n",
    "**Setup**: after retrieving the resources for the lab on moodle:\n",
    "- place the .zip archive in a local folder (Computer -> Documents/Python/);\n",
    "- unzip the archive .zip;\n",
    "- rename the folder with the convention lab2_Name1_Name2\n",
    "- duplicate the notebook file and rename it lab2_Name1_Name2.ipynb;\n",
    "- [**optional, possibly needed if working from Centrale's machines**]\n",
    "    - create a `lab2` conda environment from the provided `requirement.txt` file\n",
    "    ```bash\n",
    "    conda create --name=lab2 --file=requirement.txt\n",
    "    conda activate lab2\n",
    "    # do not forget to deactivate the environment if needed\n",
    "    # you can remove the environment once you are done\n",
    "    conda env remove --name=lab2\n",
    "    ```\n",
    "    - launch jupyter notebook (the python environment will be the one from the conda environment `lab2`)\n",
    "- at the end of the session, do not forget to transfer your work to your own network space if you are working on a machine from the school (do not leave your work on the C: drive).\n",
    "\n",
    "**Assessment** &#8594; grade /20 (possibly converted later on to a grade ranging from F to A (A+))\n",
    "\n",
    "This lab session will be evaluated, based on your answer to the exercises reported in a Jupyter notebook (e.g., this one) and any additional `.py` file produced. In particular:\n",
    "\n",
    "- make sure the notebook you produce is properly annotated: each exercise should be introduced by a short sentence summarizing its context. Concisely answer each question from the guideline. \n",
    "- **relate the numerical results to the theory covered during the lecture** whenever appropriate;\n",
    "- **codes without any explanations (in a text cell) will not be considered as a complete answer**, and will only be attributed a fraction opf the grade attributed to the question.\n",
    "- any code produced should be commented whenever appropriate;\n",
    "- include appropriate axis labels and a relevant title to each figure reported in the notebook;\n",
    "- **document any function you introduce (using docstrings)**, and comment your code whenever appropriate (see, *e.g.*, [PEP 8 style recommendations](https://www.python.org/dev/peps/pep-0008/)). \n",
    "     - use a reference docstring style, *e.g.*, the [google docstring style](https://sphinxcontrib-napoleon.readthedocs.io/en/latest/example_google.html).\n",
    "- **give a clear structure to your notebook**: longer theoretical explanations should be reported in markdown cells. Include LaTeX equations to improve the clarity of the document.\n",
    "\n",
    "**Additional evaluation criteria**:\n",
    "- Code clarity / conciseness / documentation\n",
    "- Comment quality / overall presentation\n",
    "\n",
    "## <a name=\"content\">Contents</a>\n",
    "- [Exercise 1: Simulating $M/M/1/\\infty$ and $M/M/1/K$ queues](#ex1)\n",
    "- [Exercise 2: Drawing samples from the Ising model with the Metropolis-Hasings algorithm](#ex2)\n",
    "- [Exercise 3: Simulated annealing for the *traveling salesman* problem](#ex3)"
   ]
  },
  {
   "cell_type": "code",
   "execution_count": null,
   "metadata": {},
   "outputs": [],
   "source": [
    "# \"IPython magic command\" to automatically reload any module whose\n",
    "# implementation has been modified during the execution of the notebook\n",
    "%load_ext autoreload\n",
    "%autoreload 2"
   ]
  },
  {
   "attachments": {},
   "cell_type": "markdown",
   "metadata": {},
   "source": [
    "---\n",
    "## <a name=\"ex1\">Exercise 1: Simulating $M/M/1/\\infty$ and $M/M/1/K$ queues</a> [(&#8593;)](#content)\n",
    "\n",
    "This exercise will focus on simulating an $M/M/1/\\infty$ and an $M/M/1/K$ queue to illustrate some of the results covered in lecture 5. <!--in Chapter 2 and in TD.3-->\n",
    "\n",
    "In the following, the parameter of the exponential distributions governing the inter-arrival and service times will be denoted $\\beta$ (birth move) and $\\delta$ (death move) respectively, with $0< \\beta < \\delta $. The time instants at which changes occur in the process $X(t)$ will be denoted by $T_n$ for $n \\in \\mathbb{N}$. We further define:\n",
    "\n",
    "\\begin{equation}\n",
    "    \\rho = \\frac{\\beta}{\\delta}, \\; X_n = X(T_n).\n",
    "\\end{equation}\n",
    "\n",
    "### $M/M/1/\\infty$-queue\n",
    "\n",
    "1\\. a) Using the lecture notes, implement a function to simulate a trajectory $X(t)$ of an $M/M/1/\\infty$ process, where $X(t)$ represents the number of customers in the system at time $t$. \n",
    "<!--  from Chapter 2, Section 2.3.1 -->\n",
    "\n",
    "> *Remark*: the signature of the function could be of the form:\n",
    "``` python\n",
    "def run_mm1inf(beta: float, delta: float, rng, niter: int):\n",
    "    \"\"\"\n",
    "    Args:\n",
    "        beta (float): birth rate.\n",
    "        delta (float): death rate\n",
    "        rng (int): random seed (or random generator).\n",
    "        niter (int): number of changes (events) in \n",
    "                     the process.\n",
    "    Raises:\n",
    "        ValueError: error triggered if beta <= 0.\n",
    "        ValueError: error triggered if delta <= 0.\n",
    "    Returns:\n",
    "        X (array_like): trajectory :math:`(X(t_n))`.\n",
    "        T (array_like): time instants at which a change in \n",
    "                        the process occurs :math:`(t_n)`.\n",
    "    \"\"\" \n",
    "```"
   ]
  },
  {
   "cell_type": "code",
   "execution_count": null,
   "metadata": {},
   "outputs": [],
   "source": []
  },
  {
   "attachments": {},
   "cell_type": "markdown",
   "metadata": {},
   "source": [
    "b) Display the generated trajectory of the process for $(\\beta,\\delta) = (5, 6)$ (e.g., use only the last 100 samples of the trajectory to obtain a representative illustration).\n",
    "\n",
    "> *Hint*: use the function `step` from the matlplotlib library."
   ]
  },
  {
   "cell_type": "code",
   "execution_count": null,
   "metadata": {},
   "outputs": [],
   "source": []
  },
  {
   "attachments": {},
   "cell_type": "markdown",
   "metadata": {},
   "source": [
    "2\\. a) Display on the same graph the normalized histogram of $X(t)$ and it's stationary distribution $\\pi$ defined by (see Proposition 2.1 in lecture 5)\n",
    "\n",
    "\\begin{equation}\n",
    "    (\\forall i \\in \\mathbb{N}), \\; \\pi(i) = (1 - \\rho)\\rho^i.\n",
    "\\end{equation}\n",
    "\n",
    "What does this graph illustrate?"
   ]
  },
  {
   "cell_type": "code",
   "execution_count": null,
   "metadata": {},
   "outputs": [],
   "source": []
  },
  {
   "cell_type": "markdown",
   "metadata": {},
   "source": [
    "b) Empirically evaluate the average number of customers, whose value should be close close to the theoretical value $\\frac{\\rho}{1-\\rho}$ (see Definition 2.3 p. 2 in lecture 5)."
   ]
  },
  {
   "cell_type": "code",
   "execution_count": null,
   "metadata": {},
   "outputs": [],
   "source": []
  },
  {
   "cell_type": "markdown",
   "metadata": {},
   "source": [
    "### $M/M/1/K$\n",
    "\n",
    "Consider the case where the size of the capacity service $K$ is finite, i.e., where the system can only accommodate up to $K$ customers. In comparison with the previous case, any new customer trying to enter the system at a time instant $t$ will be systematically rejected if $X(t) = K$.\n",
    "\n",
    "3\\. a) Propose a variant of the function developed in 1.a) to simulate a trajectory of an $M/M/1/K$ process."
   ]
  },
  {
   "cell_type": "code",
   "execution_count": null,
   "metadata": {},
   "outputs": [],
   "source": []
  },
  {
   "attachments": {},
   "cell_type": "markdown",
   "metadata": {},
   "source": [
    "b) Display the trajectory of the process for $(\\beta,\\delta, K) = (5, 6, 3)$."
   ]
  },
  {
   "cell_type": "code",
   "execution_count": null,
   "metadata": {},
   "outputs": [],
   "source": []
  },
  {
   "cell_type": "markdown",
   "metadata": {},
   "source": [
    "4\\. a) Display on the same graph the normalized histogram of $X(t)$ and the stationary distribution $\\pi$ defined as\n",
    "\n",
    "$$\n",
    "    (\\forall i \\in \\mathbb{N}), \\; \\pi(i) =\n",
    "    \\begin{cases}\n",
    "        \\frac{(1-\\rho)\\rho^i}{1-\\rho^{K+1}} & \\text{if } i \\in \\{0, 1, \\dotsc, K \\} \\\\\n",
    "        0 & \\text{otherwise.}\n",
    "    \\end{cases}\n",
    "$$\n",
    "\n",
    "What does this graph illustrate?"
   ]
  },
  {
   "cell_type": "code",
   "execution_count": null,
   "metadata": {},
   "outputs": [],
   "source": []
  },
  {
   "attachments": {},
   "cell_type": "markdown",
   "metadata": {},
   "source": [
    "b) Compute the theoretical average number of customers (prove its epxression), and estimate its value using the function developed in 3.a). <!--(see TD3, exercise 3)-->"
   ]
  },
  {
   "cell_type": "code",
   "execution_count": null,
   "metadata": {},
   "outputs": [],
   "source": []
  },
  {
   "attachments": {},
   "cell_type": "markdown",
   "metadata": {},
   "source": [
    "---\n",
    "## <a name=\"ex2\">Exercise 2: Drawing samples from the Ising model with the Metropolis-Hastings algorithm</a> [(&#8593;)](#content)\n",
    "\n",
    "Consider the 2D Ising model covered in Chapter 3, section 3 of the lecture notes, taken over an $N \\times N$ grid for $N = 32$, with $\\beta = 0.6$. <!-- Chapter 3, p.36 -->\n",
    "\n",
    "1\\. Implement a Metropolis-Hastings algorithm to draw samples from the 2D Ising model in the above configuration. Progressively display the evolution of the image as the algorithm evolves. Generate 10000 such variables, starting from a random configuration. Qualitatively comment the content of the last few generated samples, in comparison with the initial state.\n",
    "\n",
    "> *Note*: a) the matlpotlib examples given [here](http://louistiao.me/posts/notebooks/embedding-matplotlib-animations-in-jupyter-as-interactive-javascript-widgets/) can be useful\n",
    ">\n",
    "> b) given the relatively slow evolution from one iteration to another, you may display the current state of the image only once every 20 iterations."
   ]
  },
  {
   "cell_type": "code",
   "execution_count": 3,
   "metadata": {},
   "outputs": [
    {
     "ename": "ImportError",
     "evalue": "cannot import name 'artist' from 'matplotlib' (c:\\Users\\chadl\\AppData\\Local\\Programs\\Python\\Python310\\lib\\site-packages\\matplotlib\\__init__.py)",
     "output_type": "error",
     "traceback": [
      "\u001b[1;31m---------------------------------------------------------------------------\u001b[0m",
      "\u001b[1;31mImportError\u001b[0m                               Traceback (most recent call last)",
      "Input \u001b[1;32mIn [3]\u001b[0m, in \u001b[0;36m<cell line: 2>\u001b[1;34m()\u001b[0m\n\u001b[0;32m      1\u001b[0m \u001b[38;5;28;01mimport\u001b[39;00m \u001b[38;5;21;01mnumpy\u001b[39;00m \u001b[38;5;28;01mas\u001b[39;00m \u001b[38;5;21;01mnp\u001b[39;00m\n\u001b[1;32m----> 2\u001b[0m \u001b[38;5;28;01mimport\u001b[39;00m \u001b[38;5;21;01mmatplotlib\u001b[39;00m\u001b[38;5;21;01m.\u001b[39;00m\u001b[38;5;21;01mpyplot\u001b[39;00m \u001b[38;5;28;01mas\u001b[39;00m \u001b[38;5;21;01mplt\u001b[39;00m\n\u001b[0;32m      4\u001b[0m \u001b[38;5;66;03m# Function to initialize a random configuration\u001b[39;00m\n\u001b[0;32m      5\u001b[0m \u001b[38;5;28;01mdef\u001b[39;00m \u001b[38;5;21minitialize_configuration\u001b[39m(N):\n",
      "File \u001b[1;32mc:\\Users\\chadl\\AppData\\Local\\Programs\\Python\\Python310\\lib\\site-packages\\matplotlib\\pyplot.py:49\u001b[0m, in \u001b[0;36m<module>\u001b[1;34m\u001b[0m\n\u001b[0;32m     47\u001b[0m \u001b[38;5;28;01mfrom\u001b[39;00m \u001b[38;5;21;01mcycler\u001b[39;00m \u001b[38;5;28;01mimport\u001b[39;00m cycler\n\u001b[0;32m     48\u001b[0m \u001b[38;5;28;01mimport\u001b[39;00m \u001b[38;5;21;01mmatplotlib\u001b[39;00m\n\u001b[1;32m---> 49\u001b[0m \u001b[38;5;28;01mimport\u001b[39;00m \u001b[38;5;21;01mmatplotlib\u001b[39;00m\u001b[38;5;21;01m.\u001b[39;00m\u001b[38;5;21;01mcolorbar\u001b[39;00m\n\u001b[0;32m     50\u001b[0m \u001b[38;5;28;01mimport\u001b[39;00m \u001b[38;5;21;01mmatplotlib\u001b[39;00m\u001b[38;5;21;01m.\u001b[39;00m\u001b[38;5;21;01mimage\u001b[39;00m\n\u001b[0;32m     51\u001b[0m \u001b[38;5;28;01mfrom\u001b[39;00m \u001b[38;5;21;01mmatplotlib\u001b[39;00m \u001b[38;5;28;01mimport\u001b[39;00m _api\n",
      "File \u001b[1;32mc:\\Users\\chadl\\AppData\\Local\\Programs\\Python\\Python310\\lib\\site-packages\\matplotlib\\colorbar.py:21\u001b[0m, in \u001b[0;36m<module>\u001b[1;34m\u001b[0m\n\u001b[0;32m     18\u001b[0m \u001b[38;5;28;01mimport\u001b[39;00m \u001b[38;5;21;01mnumpy\u001b[39;00m \u001b[38;5;28;01mas\u001b[39;00m \u001b[38;5;21;01mnp\u001b[39;00m\n\u001b[0;32m     20\u001b[0m \u001b[38;5;28;01mimport\u001b[39;00m \u001b[38;5;21;01mmatplotlib\u001b[39;00m \u001b[38;5;28;01mas\u001b[39;00m \u001b[38;5;21;01mmpl\u001b[39;00m\n\u001b[1;32m---> 21\u001b[0m \u001b[38;5;28;01mfrom\u001b[39;00m \u001b[38;5;21;01mmatplotlib\u001b[39;00m \u001b[38;5;28;01mimport\u001b[39;00m _api, collections, cm, colors, contour, ticker\n\u001b[0;32m     22\u001b[0m \u001b[38;5;28;01mimport\u001b[39;00m \u001b[38;5;21;01mmatplotlib\u001b[39;00m\u001b[38;5;21;01m.\u001b[39;00m\u001b[38;5;21;01martist\u001b[39;00m \u001b[38;5;28;01mas\u001b[39;00m \u001b[38;5;21;01mmartist\u001b[39;00m\n\u001b[0;32m     23\u001b[0m \u001b[38;5;28;01mimport\u001b[39;00m \u001b[38;5;21;01mmatplotlib\u001b[39;00m\u001b[38;5;21;01m.\u001b[39;00m\u001b[38;5;21;01mpatches\u001b[39;00m \u001b[38;5;28;01mas\u001b[39;00m \u001b[38;5;21;01mmpatches\u001b[39;00m\n",
      "File \u001b[1;32mc:\\Users\\chadl\\AppData\\Local\\Programs\\Python\\Python310\\lib\\site-packages\\matplotlib\\collections.py:20\u001b[0m, in \u001b[0;36m<module>\u001b[1;34m\u001b[0m\n\u001b[0;32m     17\u001b[0m \u001b[38;5;28;01mimport\u001b[39;00m \u001b[38;5;21;01mnumpy\u001b[39;00m \u001b[38;5;28;01mas\u001b[39;00m \u001b[38;5;21;01mnp\u001b[39;00m\n\u001b[0;32m     19\u001b[0m \u001b[38;5;28;01mimport\u001b[39;00m \u001b[38;5;21;01mmatplotlib\u001b[39;00m \u001b[38;5;28;01mas\u001b[39;00m \u001b[38;5;21;01mmpl\u001b[39;00m\n\u001b[1;32m---> 20\u001b[0m \u001b[38;5;28;01mfrom\u001b[39;00m \u001b[38;5;21;01m.\u001b[39;00m \u001b[38;5;28;01mimport\u001b[39;00m (_api, _path, artist, cbook, cm, colors \u001b[38;5;28;01mas\u001b[39;00m mcolors, docstring,\n\u001b[0;32m     21\u001b[0m                hatch \u001b[38;5;28;01mas\u001b[39;00m mhatch, lines \u001b[38;5;28;01mas\u001b[39;00m mlines, path \u001b[38;5;28;01mas\u001b[39;00m mpath, transforms)\n\u001b[0;32m     22\u001b[0m \u001b[38;5;28;01mfrom\u001b[39;00m \u001b[38;5;21;01m.\u001b[39;00m\u001b[38;5;21;01m_enums\u001b[39;00m \u001b[38;5;28;01mimport\u001b[39;00m JoinStyle, CapStyle\n\u001b[0;32m     25\u001b[0m \u001b[38;5;66;03m# \"color\" is excluded; it is a compound setter, and its docstring differs\u001b[39;00m\n\u001b[0;32m     26\u001b[0m \u001b[38;5;66;03m# in LineCollection.\u001b[39;00m\n",
      "File \u001b[1;32mc:\\Users\\chadl\\AppData\\Local\\Programs\\Python\\Python310\\lib\\site-packages\\matplotlib\\lines.py:11\u001b[0m, in \u001b[0;36m<module>\u001b[1;34m\u001b[0m\n\u001b[0;32m      8\u001b[0m \u001b[38;5;28;01mimport\u001b[39;00m \u001b[38;5;21;01mnumpy\u001b[39;00m \u001b[38;5;28;01mas\u001b[39;00m \u001b[38;5;21;01mnp\u001b[39;00m\n\u001b[0;32m     10\u001b[0m \u001b[38;5;28;01mimport\u001b[39;00m \u001b[38;5;21;01mmatplotlib\u001b[39;00m \u001b[38;5;28;01mas\u001b[39;00m \u001b[38;5;21;01mmpl\u001b[39;00m\n\u001b[1;32m---> 11\u001b[0m \u001b[38;5;28;01mfrom\u001b[39;00m \u001b[38;5;21;01m.\u001b[39;00m \u001b[38;5;28;01mimport\u001b[39;00m _api, artist, cbook, colors \u001b[38;5;28;01mas\u001b[39;00m mcolors, docstring, rcParams\n\u001b[0;32m     12\u001b[0m \u001b[38;5;28;01mfrom\u001b[39;00m \u001b[38;5;21;01m.\u001b[39;00m\u001b[38;5;21;01martist\u001b[39;00m \u001b[38;5;28;01mimport\u001b[39;00m Artist, allow_rasterization\n\u001b[0;32m     13\u001b[0m \u001b[38;5;28;01mfrom\u001b[39;00m \u001b[38;5;21;01m.\u001b[39;00m\u001b[38;5;21;01mcbook\u001b[39;00m \u001b[38;5;28;01mimport\u001b[39;00m (\n\u001b[0;32m     14\u001b[0m     _to_unmasked_float_array, ls_mapper, ls_mapper_r, STEP_LOOKUP_MAP)\n",
      "\u001b[1;31mImportError\u001b[0m: cannot import name 'artist' from 'matplotlib' (c:\\Users\\chadl\\AppData\\Local\\Programs\\Python\\Python310\\lib\\site-packages\\matplotlib\\__init__.py)"
     ]
    }
   ],
   "source": [
    "import numpy as np\n",
    "import matplotlib.pyplot as plt\n",
    "\n",
    "# Function to initialize a random configuration\n",
    "def initialize_configuration(N):\n",
    "    return 2 * np.random.randint(2, size=(N, N)) - 1\n",
    "\n",
    "# Function to calculate the energy of a given configuration\n",
    "def calculate_energy(spins):\n",
    "    energy = 0\n",
    "    N = spins.shape[0]\n",
    "    for i in range(N):\n",
    "        for j in range(N):\n",
    "            energy += -spins[i, j] * (spins[(i + 1) % N, j] + spins[i, (j + 1) % N])\n",
    "    return energy\n",
    "\n",
    "# Function to perform Metropolis-Hastings update\n",
    "def metropolis_hastings(spins, beta,n):\n",
    "    N = spins.shape[0]\n",
    "    for _ in range(n) :   \n",
    "        # Choose a random site\n",
    "        i, j = np.random.randint(N), np.random.randint(N)\n",
    "        \n",
    "        # Calculate the change in energy\n",
    "        delta_energy = 2 * spins[i, j] * (spins[(i - 1) % N, j] + spins[(i + 1) % N, j] +\n",
    "                                        spins[i, (j - 1) % N] + spins[i, (j + 1) % N])\n",
    "        \n",
    "        # Accept or reject the move\n",
    "        if np.random.rand() < np.exp(-beta * delta_energy):\n",
    "            spins[i, j] *= -1  \n",
    "\n",
    "\n",
    "# Set parameters\n",
    "N = 32\n",
    "beta = 0.6\n",
    "num_samples = 100000\n",
    "spins = initialize_configuration(N)\n",
    "\n",
    "fig, ax = plt.subplots()\n",
    "im = ax.imshow(spins, cmap='gray', animated=True)\n",
    "states = [spins.copy()]\n",
    "\n"
   ]
  },
  {
   "cell_type": "code",
   "execution_count": 17,
   "metadata": {},
   "outputs": [
    {
     "data": {
      "image/png": "[encoded data removed]",
      "text/plain": [
       "<Figure size 432x288 with 1 Axes>"
      ]
     },
     "metadata": {
      "needs_background": "light"
     },
     "output_type": "display_data"
    }
   ],
   "source": [
    "for i in range(100):\n",
    "      metropolis_hastings(spins,beta,100)\n",
    "      if i % 20 == 0:\n",
    "          plt.imshow(spins, cmap='gray', animated=True)\n",
    "        "
   ]
  },
  {
   "cell_type": "code",
   "execution_count": 67,
   "metadata": {},
   "outputs": [
    {
     "ename": "KeyboardInterrupt",
     "evalue": "",
     "output_type": "error",
     "traceback": [
      "\u001b[1;31m---------------------------------------------------------------------------\u001b[0m",
      "\u001b[1;31mKeyboardInterrupt\u001b[0m                         Traceback (most recent call last)",
      "Input \u001b[1;32mIn [67]\u001b[0m, in \u001b[0;36m<cell line: 18>\u001b[1;34m()\u001b[0m\n\u001b[0;32m     17\u001b[0m \u001b[38;5;66;03m# Create the animation\u001b[39;00m\n\u001b[0;32m     18\u001b[0m \u001b[38;5;28;01mfor\u001b[39;00m i \u001b[38;5;129;01min\u001b[39;00m \u001b[38;5;28mrange\u001b[39m(num_samples):\n\u001b[1;32m---> 19\u001b[0m     \u001b[43mupdate_plot\u001b[49m\u001b[43m(\u001b[49m\u001b[43mi\u001b[49m\u001b[43m,\u001b[49m\u001b[43m \u001b[49m\u001b[43mspins\u001b[49m\u001b[43m,\u001b[49m\u001b[43m \u001b[49m\u001b[43mim\u001b[49m\u001b[43m)\u001b[49m\n\u001b[0;32m     20\u001b[0m     plt\u001b[38;5;241m.\u001b[39mimshow(spins,cmap\u001b[38;5;241m=\u001b[39m\u001b[38;5;124m'\u001b[39m\u001b[38;5;124mgray\u001b[39m\u001b[38;5;124m'\u001b[39m)\n",
      "Input \u001b[1;32mIn [67]\u001b[0m, in \u001b[0;36mupdate_plot\u001b[1;34m(frame, spins, im)\u001b[0m\n\u001b[0;32m     11\u001b[0m \u001b[38;5;28;01mfor\u001b[39;00m _ \u001b[38;5;129;01min\u001b[39;00m \u001b[38;5;28mrange\u001b[39m(\u001b[38;5;241m20\u001b[39m):\n\u001b[0;32m     12\u001b[0m     metropolis_hastings(spins, beta, \u001b[38;5;241m1\u001b[39m)\n\u001b[1;32m---> 14\u001b[0m \u001b[43mim\u001b[49m\u001b[38;5;241;43m.\u001b[39;49m\u001b[43mset_array\u001b[49m\u001b[43m(\u001b[49m\u001b[43mspins\u001b[49m\u001b[43m)\u001b[49m\n\u001b[0;32m     15\u001b[0m \u001b[38;5;28;01mreturn\u001b[39;00m im,\n",
      "File \u001b[1;32mc:\\Users\\chadl\\AppData\\Local\\Programs\\Python\\Python310\\lib\\site-packages\\matplotlib\\image.py:749\u001b[0m, in \u001b[0;36m_ImageBase.set_array\u001b[1;34m(self, A)\u001b[0m\n\u001b[0;32m    740\u001b[0m \u001b[38;5;250m\u001b[39m\u001b[38;5;124;03m\"\"\"\u001b[39;00m\n\u001b[0;32m    741\u001b[0m \u001b[38;5;124;03mRetained for backwards compatibility - use set_data instead.\u001b[39;00m\n\u001b[0;32m    742\u001b[0m \n\u001b[1;32m   (...)\u001b[0m\n\u001b[0;32m    745\u001b[0m \u001b[38;5;124;03mA : array-like\u001b[39;00m\n\u001b[0;32m    746\u001b[0m \u001b[38;5;124;03m\"\"\"\u001b[39;00m\n\u001b[0;32m    747\u001b[0m \u001b[38;5;66;03m# This also needs to be here to override the inherited\u001b[39;00m\n\u001b[0;32m    748\u001b[0m \u001b[38;5;66;03m# cm.ScalarMappable.set_array method so it is not invoked by mistake.\u001b[39;00m\n\u001b[1;32m--> 749\u001b[0m \u001b[38;5;28;43mself\u001b[39;49m\u001b[38;5;241;43m.\u001b[39;49m\u001b[43mset_data\u001b[49m\u001b[43m(\u001b[49m\u001b[43mA\u001b[49m\u001b[43m)\u001b[49m\n",
      "File \u001b[1;32mc:\\Users\\chadl\\AppData\\Local\\Programs\\Python\\Python310\\lib\\site-packages\\matplotlib\\image.py:702\u001b[0m, in \u001b[0;36m_ImageBase.set_data\u001b[1;34m(self, A)\u001b[0m\n\u001b[0;32m    700\u001b[0m \u001b[38;5;28;01mif\u001b[39;00m \u001b[38;5;28misinstance\u001b[39m(A, PIL\u001b[38;5;241m.\u001b[39mImage\u001b[38;5;241m.\u001b[39mImage):\n\u001b[0;32m    701\u001b[0m     A \u001b[38;5;241m=\u001b[39m pil_to_array(A)  \u001b[38;5;66;03m# Needed e.g. to apply png palette.\u001b[39;00m\n\u001b[1;32m--> 702\u001b[0m \u001b[38;5;28mself\u001b[39m\u001b[38;5;241m.\u001b[39m_A \u001b[38;5;241m=\u001b[39m \u001b[43mcbook\u001b[49m\u001b[38;5;241;43m.\u001b[39;49m\u001b[43msafe_masked_invalid\u001b[49m\u001b[43m(\u001b[49m\u001b[43mA\u001b[49m\u001b[43m,\u001b[49m\u001b[43m \u001b[49m\u001b[43mcopy\u001b[49m\u001b[38;5;241;43m=\u001b[39;49m\u001b[38;5;28;43;01mTrue\u001b[39;49;00m\u001b[43m)\u001b[49m\n\u001b[0;32m    704\u001b[0m \u001b[38;5;28;01mif\u001b[39;00m (\u001b[38;5;28mself\u001b[39m\u001b[38;5;241m.\u001b[39m_A\u001b[38;5;241m.\u001b[39mdtype \u001b[38;5;241m!=\u001b[39m np\u001b[38;5;241m.\u001b[39muint8 \u001b[38;5;129;01mand\u001b[39;00m\n\u001b[0;32m    705\u001b[0m         \u001b[38;5;129;01mnot\u001b[39;00m np\u001b[38;5;241m.\u001b[39mcan_cast(\u001b[38;5;28mself\u001b[39m\u001b[38;5;241m.\u001b[39m_A\u001b[38;5;241m.\u001b[39mdtype, \u001b[38;5;28mfloat\u001b[39m, \u001b[38;5;124m\"\u001b[39m\u001b[38;5;124msame_kind\u001b[39m\u001b[38;5;124m\"\u001b[39m)):\n\u001b[0;32m    706\u001b[0m     \u001b[38;5;28;01mraise\u001b[39;00m \u001b[38;5;167;01mTypeError\u001b[39;00m(\u001b[38;5;124m\"\u001b[39m\u001b[38;5;124mImage data of dtype \u001b[39m\u001b[38;5;132;01m{}\u001b[39;00m\u001b[38;5;124m cannot be converted to \u001b[39m\u001b[38;5;124m\"\u001b[39m\n\u001b[0;32m    707\u001b[0m                     \u001b[38;5;124m\"\u001b[39m\u001b[38;5;124mfloat\u001b[39m\u001b[38;5;124m\"\u001b[39m\u001b[38;5;241m.\u001b[39mformat(\u001b[38;5;28mself\u001b[39m\u001b[38;5;241m.\u001b[39m_A\u001b[38;5;241m.\u001b[39mdtype))\n",
      "File \u001b[1;32mc:\\Users\\chadl\\AppData\\Local\\Programs\\Python\\Python310\\lib\\site-packages\\matplotlib\\cbook\\__init__.py:701\u001b[0m, in \u001b[0;36msafe_masked_invalid\u001b[1;34m(x, copy)\u001b[0m\n\u001b[0;32m    700\u001b[0m \u001b[38;5;28;01mdef\u001b[39;00m \u001b[38;5;21msafe_masked_invalid\u001b[39m(x, copy\u001b[38;5;241m=\u001b[39m\u001b[38;5;28;01mFalse\u001b[39;00m):\n\u001b[1;32m--> 701\u001b[0m     x \u001b[38;5;241m=\u001b[39m \u001b[43mnp\u001b[49m\u001b[38;5;241;43m.\u001b[39;49m\u001b[43marray\u001b[49m\u001b[43m(\u001b[49m\u001b[43mx\u001b[49m\u001b[43m,\u001b[49m\u001b[43m \u001b[49m\u001b[43msubok\u001b[49m\u001b[38;5;241;43m=\u001b[39;49m\u001b[38;5;28;43;01mTrue\u001b[39;49;00m\u001b[43m,\u001b[49m\u001b[43m \u001b[49m\u001b[43mcopy\u001b[49m\u001b[38;5;241;43m=\u001b[39;49m\u001b[43mcopy\u001b[49m\u001b[43m)\u001b[49m\n\u001b[0;32m    702\u001b[0m     \u001b[38;5;28;01mif\u001b[39;00m \u001b[38;5;129;01mnot\u001b[39;00m x\u001b[38;5;241m.\u001b[39mdtype\u001b[38;5;241m.\u001b[39misnative:\n\u001b[0;32m    703\u001b[0m         \u001b[38;5;66;03m# If we have already made a copy, do the byteswap in place, else make a\u001b[39;00m\n\u001b[0;32m    704\u001b[0m         \u001b[38;5;66;03m# copy with the byte order swapped.\u001b[39;00m\n\u001b[0;32m    705\u001b[0m         x \u001b[38;5;241m=\u001b[39m x\u001b[38;5;241m.\u001b[39mbyteswap(inplace\u001b[38;5;241m=\u001b[39mcopy)\u001b[38;5;241m.\u001b[39mnewbyteorder(\u001b[38;5;124m'\u001b[39m\u001b[38;5;124mN\u001b[39m\u001b[38;5;124m'\u001b[39m)  \u001b[38;5;66;03m# Swap to native order.\u001b[39;00m\n",
      "\u001b[1;31mKeyboardInterrupt\u001b[0m: "
     ]
    }
   ],
   "source": [
    "N = 32\n",
    "beta = 0.6\n",
    "num_samples = 10000\n",
    "spins = initialize_configuration(N)\n",
    "\n",
    "fig, ax = plt.subplots()\n",
    "im = ax.imshow(spins, cmap='gray')\n",
    "\n",
    "# Function to update the plot for animation\n",
    "def update_plot(frame, spins, im):\n",
    "    for _ in range(20):\n",
    "        metropolis_hastings(spins, beta, 1)\n",
    "\n",
    "    im.set_array(spins)\n",
    "    return im,\n",
    "\n",
    "# Create the animation\n",
    "for i in range(num_samples):\n",
    "    update_plot(i, spins, im)\n",
    "    plt.imshow(spins,cmap='gray')"
   ]
  },
  {
   "cell_type": "code",
   "execution_count": 8,
   "metadata": {},
   "outputs": [
    {
     "data": {
      "image/png": "[encoded data removed]",
      "text/plain": [
       "<Figure size 432x216 with 2 Axes>"
      ]
     },
     "metadata": {
      "needs_background": "light"
     },
     "output_type": "display_data"
    }
   ],
   "source": [
    "# Display the stored states as separate images\n",
    "fig, axs = plt.subplots(1, len(states), figsize=(len(states) * 3, 3))\n",
    "for i, state in enumerate(states):\n",
    "    axs[i].imshow(state, cmap='gray')\n",
    "    axs[i].axis('off')\n",
    "   \n",
    "plt.show()"
   ]
  },
  {
   "attachments": {},
   "cell_type": "markdown",
   "metadata": {},
   "source": [
    "2\\. Decrease the value of the parameter $\\beta = 0.1$, and generate 10000 new variables with the algorithm implemented in 1. What is the influence of the parameter $\\beta$?"
   ]
  },
  {
   "cell_type": "code",
   "execution_count": 110,
   "metadata": {},
   "outputs": [
    {
     "data": {
      "image/png": "[encoded data removed]",
      "text/plain": [
       "<Figure size 432x288 with 1 Axes>"
      ]
     },
     "metadata": {
      "needs_background": "light"
     },
     "output_type": "display_data"
    }
   ],
   "source": [
    "# Set parameters\n",
    "N = 32\n",
    "beta = 0.1\n",
    "num_samples = 1000\n",
    "spins = initialize_configuration(N)\n",
    "\n",
    "fig, ax = plt.subplots()\n",
    "im = ax.imshow(spins, cmap='gray', animated=True)\n",
    "states = [spins.copy()]\n",
    "# Create animation\n",
    "\n",
    "\n",
    "\n",
    "plt.show()"
   ]
  },
  {
   "cell_type": "code",
   "execution_count": 129,
   "metadata": {},
   "outputs": [
    {
     "data": {
      "image/png": "[encoded data removed]",
      "text/plain": [
       "<Figure size 3240x216 with 15 Axes>"
      ]
     },
     "metadata": {
      "needs_background": "light"
     },
     "output_type": "display_data"
    }
   ],
   "source": [
    "ani = animation.FuncAnimation(fig, update_plot, frames=num_samples, fargs=(spins, im,states),\n",
    "                              interval=20, blit=True)\n",
    "# Display the stored states as separate images\n",
    "fig, axs = plt.subplots(1, len(states), figsize=(len(states) * 3, 3))\n",
    "for i, state in enumerate(states):\n",
    "    axs[i].imshow(state, cmap='gray')\n",
    "    axs[i].axis('off')\n",
    "plt.show()"
   ]
  },
  {
   "attachments": {},
   "cell_type": "markdown",
   "metadata": {},
   "source": [
    "---\n",
    "## <a name=\"ex3\">Exercise 3: Simulated annealing for the *traveling salesman* problem</a> [(&#8593;)](#content)\n",
    "\n",
    "This exercise will be focused on the implementation of a basic simulated annealing algorithm to minimize a function $f : E \\subset \\mathbb{N} \\rightarrow \\mathbb{R}$, where $E$ is finite. An application to the *traveling salesman* problem will then be considered to test the algorithm implementation. \n",
    "\n",
    "In general, a simulated annealing algorithm can be described as follows.\n",
    "\n",
    "---\n",
    "**Simulated annealing**\n",
    "\n",
    "Set $x_0 \\in E$, $T_0  > 0$. \n",
    "\n",
    "$n \\leftarrow 0$\n",
    "\n",
    "While $(n \\leq N)$ and $(T_n > T_{\\min})$\n",
    "\n",
    "  1. Draw a point $y \\sim Q(x_n, \\cdot)$ in the neighborhood of $x_n$, and $u \\sim \\mathscr{U}([0,1])$ (where $\\mathscr{U}$ is the uniform distribution)\n",
    "  \n",
    "  2. Compute the acceptance probability: \n",
    "  \n",
    "$$\n",
    "    p(f(x_n), f(y), T_n) = \n",
    "    \\begin{cases}\n",
    "        1 & \\text{if } f(y) < f(x_n) \\\\\n",
    "        e^{-(f(y) - f(x_n))/T_n} & \\text{otherwise.}\n",
    "    \\end{cases}\n",
    "$$\n",
    "  \n",
    "  3. Set $x_{n+1} = \\begin{cases}\n",
    "       y & \\text{if } u \\leq p(f(x_n), f(y), T_n) \\\\\n",
    "       x_n & \\text{otherwise.}\n",
    "       \\end{cases}$\n",
    "  4. Set $T_{n+1} = \\frac{T_0}{\\log(n+2)}$\n",
    "  5. $n \\leftarrow n+1$\n",
    "\n",
    "Return $x_N$, $\\bigl( f(x_n) \\bigr)_{1 \\leq n \\leq N}$\n",
    "\n",
    "> *Note*: in practice, the transition kernel $Q$, the neighborhood of the current point $x_n$ needs to be defined by the user, depending on the problem of interest. The definition of the other elements will be specified later for the *traveling salesman* problem.\n",
    "\n",
    "---"
   ]
  },
  {
   "cell_type": "markdown",
   "metadata": {},
   "source": [
    "1\\. Implement a generic `simulated_annealing` function to be run for a maximum of $N$ iterations.\n",
    "\n",
    "> *Note*: you can for instance create an object gathering several abstract methods to be instanciated (e.g., `draw_neighbour`, `acceptance_probability`, ...). Using functions and lambda functions is another possibility."
   ]
  },
  {
   "cell_type": "code",
   "execution_count": null,
   "metadata": {},
   "outputs": [],
   "source": []
  },
  {
   "cell_type": "markdown",
   "metadata": {},
   "source": [
    "The algorithm implemented in 1. will be applied to the *traveling salesman* problem, briefly described in the following lines.\n",
    "\n",
    "---\n",
    "**The Traveling Salesman problem**\n",
    "\n",
    "A salesman must find the shortest route going only once through $K$ cities, represented by the points $C_1, \\dotsc, C_K$ in $\\mathbb{R}^2$. In this case, the set of all possible routes $E$ contains $K!$ elements, which excludes an exhaustive search as $K$ increases (*e.g.*, for $K \\geq 10$). For this application, the problem thus consists in finding a route, i.e., a permutation $\\sigma$ in the symmetric group $\\Sigma_K$, minimizing the function\n",
    "\n",
    "\\begin{equation}\n",
    "    \\sigma = \\bigl( \\sigma(1), \\dotsc , \\sigma(K) \\bigr) \\mapsto f(x) = \\sum_{i = 1}^{K} \\text{dist} (C_{\\sigma(i)}, C_{\\sigma(i+1)})\n",
    "\\end{equation}\n",
    "\n",
    "with the convention $\\sigma(K+1) = \\sigma(1)$. In this case, simulated annealing randomly explores $\\Sigma_K$ from one possible route to another located in its vicinity (which needs to be defined). \n",
    "\n",
    "In the following, the route $\\tilde{\\sigma} = \\bigl( \\tilde{\\sigma}(1), \\dotsc, \\tilde{\\sigma}(K) \\bigr)$ will be said to be a neighbour of $\\sigma = \\bigl( \\sigma(1), \\dotsc, \\sigma(K) \\bigr)$ if there exists $1 \\leq i < k \\leq K $ such that:\n",
    "\n",
    "\\begin{equation}\n",
    "   \\bigl( \\tilde{\\sigma}(1), \\dotsc ,\\tilde{\\sigma}(K) \\bigr) = \\bigl( \\sigma(1), \\dotsc, \\sigma(i−1), \\sigma(k), \\sigma(k−1), \\dotsc, \\sigma(i+1), \\sigma(i), \\sigma(k+1), \\dotsc, \\sigma(K) \\bigr). \n",
    "\\end{equation}\n",
    "\n",
    "For instance, for $K = 8$, the permutations $(1,2,3,4,8,7,6,5)$ and $(1,2,7,8,4,3,6,5)$ are neighbours (with $i = 3$, $k = 6$).\n",
    "\n",
    "---"
   ]
  },
  {
   "cell_type": "markdown",
   "metadata": {},
   "source": [
    "2\\. Fully instantiate the simulated annealing algorithm for the traveling salesman problem. Take the $\\ell_2$ norm for $\\text{dist}$."
   ]
  },
  {
   "cell_type": "code",
   "execution_count": null,
   "metadata": {},
   "outputs": [],
   "source": []
  },
  {
   "cell_type": "markdown",
   "metadata": {},
   "source": [
    "3\\. Test your algorithm for $K = 50$ randomly located cities (i.e., generate the values of $(C_k)_{1 \\leq k \\leq K}$ randomly). Display both the evolution of the cost function with the iterations and the final route. Empirically tune the value $T_0$ to improve the result of the algorithm.\n",
    "\n",
    "> *Notes*:\n",
    ">\n",
    "> a) for reproducibility, set the random seed of the random number generator to a specific value, *e.g.*, 0;\n",
    ">\n",
    "> b) to generate an initial path $x_0$, you can for instance randomly select a starting city $k$, and define the next city sequentially by taking its *nearest neighbour*;\n",
    ">\n",
    "> c) to display the trajectory, you can use `matplotlib.pyplot.arrow` to display an arrow between two consecutive points."
   ]
  },
  {
   "cell_type": "code",
   "execution_count": null,
   "metadata": {},
   "outputs": [],
   "source": []
  }
 ],
 "metadata": {
  "kernelspec": {
   "display_name": "Python 3.8.12 ('proba2')",
   "language": "python",
   "name": "python3"
  },
  "language_info": {
   "codemirror_mode": {
    "name": "ipython",
    "version": 3
   },
   "file_extension": ".py",
   "mimetype": "text/x-python",
   "name": "python",
   "nbconvert_exporter": "python",
   "pygments_lexer": "ipython3",
   "version": "3.10.6"
  },
  "vscode": {
   "interpreter": {
    "hash": "e8fe602c0f5c386b649ce7a1346b7b6de6c4ccf7371f3c0eee3e27f41427a2f8"
   }
  }
 },
 "nbformat": 4,
 "nbformat_minor": 4
}
